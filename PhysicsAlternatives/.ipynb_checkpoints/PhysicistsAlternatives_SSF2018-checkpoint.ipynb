{
 "cells": [
  {
   "cell_type": "markdown",
   "metadata": {
    "slideshow": {
     "slide_type": "skip"
    }
   },
   "source": [
    "Best viewed in 1920x1080 resolution using Firefox (52+) browser.\n",
    "\n",
    "Convert to HTML slides with following command\n",
    "\n",
    "```bash\n",
    "jupyter nbconvert PhysicistsAlternatives_SSF2018.ipynb --to slides --post serve\n",
    "```"
   ]
  },
  {
   "cell_type": "code",
   "execution_count": 1,
   "metadata": {
    "slideshow": {
     "slide_type": "skip"
    }
   },
   "outputs": [],
   "source": [
    "from IPython.display import IFrame"
   ]
  },
  {
   "cell_type": "markdown",
   "metadata": {
    "slideshow": {
     "slide_type": "slide"
    }
   },
   "source": [
    "# <center> Alternatives in physics: Tales from a computational physicist outside academia. </center>\n",
    "#### <center> Iván José Pulido Sánchez </center>\n",
    "##### <center> April 18, 2018 </center>\n",
    "<br /><br />\n",
    "####  [Combustión Ingenieros S.A.S.](http://www.cihologramas.com)\n",
    "#### [ijpulidos@cihologramas.com](mailto:ijpulidos@cihologramas.com) - Github: [ijpulidos](https://github.com/ijpulidos) \n",
    "\n"
   ]
  },
  {
   "cell_type": "markdown",
   "metadata": {
    "slideshow": {
     "slide_type": "slide"
    }
   },
   "source": [
    "# <center> BACKGROUND </center>\n",
    "<center>\n",
    "<img src=\"https://raw.githubusercontent.com/ijpulidos/qlb-presentation/master/images/UN_logo.png\" style=\"width: 300px; float: left\">\n",
    "<img src=\"https://raw.githubusercontent.com/ijpulidos/qlb-presentation/master/images/logo.png\" style=\"width: 250px; float: left\">\n",
    "<img src=\"http://www.cihologramas.com/images/inicio/LOGO_CI.png\" style=\"width: 250px; float: left\">\n",
    "</center>"
   ]
  },
  {
   "cell_type": "markdown",
   "metadata": {
    "slideshow": {
     "slide_type": "slide"
    }
   },
   "source": [
    "# <center> SO, WHAT DO I DO? </center>"
   ]
  },
  {
   "cell_type": "markdown",
   "metadata": {
    "slideshow": {
     "slide_type": "subslide"
    }
   },
   "source": [
    "## Professionally\n",
    "\n",
    "![CI](media/Professionally.png)\n",
    "\n",
    "\n",
    "<center> <b>Optical testing</b> $\\hspace{1cm}$ <b>Data Analysis</b> $\\hspace{1cm}$ <b>Software Dev.</b></center>\n",
    "    \n",
    "<center><b>Electronic control</b></center>"
   ]
  },
  {
   "cell_type": "markdown",
   "metadata": {
    "slideshow": {
     "slide_type": "subslide"
    }
   },
   "source": [
    "### ... for technology innovation\n",
    "\n",
    "![CImix](media/CIMix.png)"
   ]
  },
  {
   "cell_type": "markdown",
   "metadata": {
    "slideshow": {
     "slide_type": "subslide"
    }
   },
   "source": [
    "## Activism and giving back to society\n",
    "\n",
    "![Activism](media/ActivismMix.png)\n",
    "\n",
    "<center><b>Reproducible Research</b> $\\hspace{2cm}$ <b>Citizen Science</b> $\\hspace{2cm}$ <b>Free/Open-Source Software</b></center>"
   ]
  },
  {
   "cell_type": "markdown",
   "metadata": {
    "slideshow": {
     "slide_type": "skip"
    }
   },
   "source": [
    "I'm just putting this here to be able to screenshot it and use it in the next slide :)\n",
    "# $\\vec{F}=m\\vec{a}$"
   ]
  },
  {
   "cell_type": "markdown",
   "metadata": {
    "slideshow": {
     "slide_type": "subslide"
    }
   },
   "source": [
    "## Last but not least... for fun\n",
    "<br /><br />\n",
    "<center><b>Computational Biophysics</b> $\\hspace{2cm}$ <b>Complexity/Visualization</b></center>\n",
    "\n",
    "<div class=\"row\">\n",
    "  <div class=\"column\">\n",
    "    <center><img src=\"media/gif/CompBio1.gif\" alt=\"Comp. Bio.\" style=\"width: 159px; height: 200px;\"></center>\n",
    "  </div>\n",
    "  <div class=\"column\">\n",
    "    <center><img src=\"media/gif/SmallNetwork.gif\" alt=\"Small Net\" style=\"width: 200px; height: 200px;\"></center>\n",
    "  </div>\n",
    "  <div class=\"column\">\n",
    "      <center><img src=\"media/gif/Sunspots.gif\" alt=\"Small Net\" style=\"width: 200px; height: 200px\"></center>\n",
    "  </div>\n",
    "</div>"
   ]
  },
  {
   "cell_type": "markdown",
   "metadata": {
    "slideshow": {
     "slide_type": "subslide"
    }
   },
   "source": [
    "<br /><br /><br />\n",
    "<center> Common factor: <b>Scientific Computation & Problem solving</b> </center>\n",
    "<br /><br /><br /><br />\n",
    "<center> _The purpose of computing is insight, not numbers._ R. Hamming"
   ]
  },
  {
   "cell_type": "markdown",
   "metadata": {
    "slideshow": {
     "slide_type": "slide"
    }
   },
   "source": [
    "# <center> WHAT DO I USE? </center>"
   ]
  },
  {
   "cell_type": "markdown",
   "metadata": {
    "slideshow": {
     "slide_type": "subslide"
    }
   },
   "source": [
    "## Literate computing: Beyond just coding\n",
    "\n",
    "* The proper/comfortable tool for the purpose (C/C++, Python, Smalltalk, etc.)\n",
    "* [Jupyter](http://jupyter.org/) environment. \n",
    "* [Grafoscopio](http://mutabit.com/grafoscopio/): home-made, community-based."
   ]
  },
  {
   "cell_type": "markdown",
   "metadata": {
    "slideshow": {
     "slide_type": "subslide"
    }
   },
   "source": [
    "# Example"
   ]
  },
  {
   "cell_type": "code",
   "execution_count": 33,
   "metadata": {
    "slideshow": {
     "slide_type": "fragment"
    }
   },
   "outputs": [
    {
     "data": {
      "text/html": [
       "\n",
       "        <iframe\n",
       "            width=\"1000\"\n",
       "            height=\"600\"\n",
       "            src=\"https://hub.mybinder.org/user/ijpulidos-statmech-92p0rg3v/notebooks/ex1.7/Exercise%201.7.ipynb\"\n",
       "            frameborder=\"0\"\n",
       "            allowfullscreen\n",
       "        ></iframe>\n",
       "        "
      ],
      "text/plain": [
       "<IPython.lib.display.IFrame at 0x7f49e48aac50>"
      ]
     },
     "execution_count": 33,
     "metadata": {},
     "output_type": "execute_result"
    }
   ],
   "source": [
    "IFrame(\"https://hub.mybinder.org/user/ijpulidos-statmech-92p0rg3v/notebooks/ex1.7/Exercise%201.7.ipynb\", width=1000, height=600)"
   ]
  },
  {
   "cell_type": "markdown",
   "metadata": {
    "slideshow": {
     "slide_type": "subslide"
    }
   },
   "source": [
    "## Organizing code and more\n",
    "\n",
    "Imagine organizing projects like this\n",
    "![LinesOfCode](media/CI_LinesOfCode.png)"
   ]
  },
  {
   "cell_type": "markdown",
   "metadata": {
    "slideshow": {
     "slide_type": "fragment"
    }
   },
   "source": [
    "* Knowing what you did to not repeat mistakes and easily find them.\n",
    "* Share, publish and contribute code (or more).\n",
    "* Tools that allow feedback from devs, users or general public.\n",
    "* Organize ideas, execute and follow development of projects.\n",
    "* Examples:\n",
    "    * Version control: fossil, mercurial, git.\n",
    "    * UIs and project managers: Github, bitbucket, redmine."
   ]
  },
  {
   "cell_type": "markdown",
   "metadata": {
    "slideshow": {
     "slide_type": "subslide"
    }
   },
   "source": [
    "# Version control systems\n",
    "\n",
    "![CVS](media/CVS.png)"
   ]
  },
  {
   "cell_type": "markdown",
   "metadata": {
    "slideshow": {
     "slide_type": "subslide"
    }
   },
   "source": [
    "# Project management\n",
    "\n",
    "![redmine](media/redmine.png)"
   ]
  },
  {
   "cell_type": "markdown",
   "metadata": {
    "slideshow": {
     "slide_type": "slide"
    }
   },
   "source": [
    "# <center>WHY? PURPOSE?</center>"
   ]
  },
  {
   "cell_type": "markdown",
   "metadata": {
    "slideshow": {
     "slide_type": "subslide"
    }
   },
   "source": [
    "## Proper science\n",
    "\n",
    "* **Reproducibility issues:** Pressure and not enough information.\n",
    "* **Dynamic publications:** Science content nowadays is anything but static.\n",
    "* **Papers as just a product:** For profit editorials, more than Coca Cola?\n",
    "* **Tackle misconceptions**.\n",
    "* **Immediate publish-ready results**\n",
    "\n",
    "<center><img src=\"media/reproducibility.jpeg\" style=\"width:500px\"></center>"
   ]
  },
  {
   "cell_type": "markdown",
   "metadata": {
    "slideshow": {
     "slide_type": "subslide"
    }
   },
   "source": [
    "## Academia $\\leftrightarrow$ Industry\n",
    "\n",
    "* Nothing fundamentally wrong with just academia and paper publishing, but...\n",
    "* When you are off the pressure of just publishing traditionally you can actually get things done.\n",
    "* Local innovation and science jobs.\n",
    "* Creativity circle between academia and industry. Tools from acedmia powering industry and back."
   ]
  },
  {
   "cell_type": "markdown",
   "metadata": {
    "slideshow": {
     "slide_type": "fragment"
    }
   },
   "source": [
    "## Automatization and interdisciplinarity\n",
    "\n",
    "* Tools for automatizing tedious research tasks.\n",
    "* Let the less knowledgeable understand and play with your work.\n",
    "* Tell your stories with science and data.\n",
    "* Teach science in a different and modern way."
   ]
  },
  {
   "cell_type": "code",
   "execution_count": 26,
   "metadata": {
    "slideshow": {
     "slide_type": "subslide"
    }
   },
   "outputs": [
    {
     "data": {
      "text/html": [
       "\n",
       "        <iframe\n",
       "            width=\"1000\"\n",
       "            height=\"600\"\n",
       "            src=\"http://nbviewer.jupyter.org/github/barbagroup/CFDPython/blob/master/lessons/16_Step_12.ipynb\"\n",
       "            frameborder=\"0\"\n",
       "            allowfullscreen\n",
       "        ></iframe>\n",
       "        "
      ],
      "text/plain": [
       "<IPython.lib.display.IFrame at 0x7f49e47c0b38>"
      ]
     },
     "execution_count": 26,
     "metadata": {},
     "output_type": "execute_result"
    }
   ],
   "source": [
    "IFrame(\"http://nbviewer.jupyter.org/github/barbagroup/CFDPython/blob/master/lessons/16_Step_12.ipynb\", width=1000, height=600)"
   ]
  },
  {
   "cell_type": "markdown",
   "metadata": {
    "slideshow": {
     "slide_type": "slide"
    }
   },
   "source": [
    "# Some references\n",
    "\n",
    "* https://www.nature.com/news/1-500-scientists-lift-the-lid-on-reproducibility-1.19970\n",
    "* http://blog.fperez.org/2013/04/literate-computing-and-computational.html\n",
    "* [Sethna, J. P., (2017) Statistical Mechanics: Entropy, Order Parameters and Complexity](http://pages.physics.cornell.edu/%7Esethna/StatMech/)\n",
    "* http://jakevdp.github.io/blog/2017/03/03/reproducible-data-analysis-in-jupyter/\n",
    "* http://jakevdp.github.io/blog/2013/10/26/big-data-brain-drain/\n",
    "* [Berendsen, et al. (1995) Comp. Phys. Comm. 91: 43-56.](https://www.sciencedirect.com/science/article/pii/001046559500042E?via%3Dihub)"
   ]
  }
 ],
 "metadata": {
  "celltoolbar": "Slideshow",
  "kernelspec": {
   "display_name": "Python 3",
   "language": "python",
   "name": "python3"
  },
  "language_info": {
   "codemirror_mode": {
    "name": "ipython",
    "version": 3
   },
   "file_extension": ".py",
   "mimetype": "text/x-python",
   "name": "python",
   "nbconvert_exporter": "python",
   "pygments_lexer": "ipython3",
   "version": "3.6.4"
  }
 },
 "nbformat": 4,
 "nbformat_minor": 2
}
